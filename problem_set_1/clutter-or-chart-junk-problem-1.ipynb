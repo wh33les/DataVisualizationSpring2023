# Objective 

Recreate the following chart with a reduced amount of chart junk.

![Chartjunk](files/chartjunk1.png)